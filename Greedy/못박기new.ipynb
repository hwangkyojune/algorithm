{
 "cells": [
  {
   "cell_type": "code",
   "execution_count": 23,
   "metadata": {},
   "outputs": [],
   "source": [
    "def return_second(li):\n",
    "    return li[-1]"
   ]
  },
  {
   "cell_type": "code",
   "execution_count": 59,
   "metadata": {},
   "outputs": [],
   "source": [
    "\n",
    "def coco(li,):\n",
    "    num = 0\n",
    "    li.sort(key = lambda x : -x[0])\n",
    "    print(li)\n",
    "    while len(li) > 0:\n",
    "        smallest_right = min(map(return_second,li))\n",
    "        num += 1\n",
    "        #가장 작은 오른쪽 범위를 가지고 있는 것보다 작거나 같은 왼쪽 범위를 가진 막대기는 삭제해야한다.\n",
    "        #즉 while문을 통해서 큰 인덱스만 남기면 같은 못에 박힌 나무들을 제거할 수 있다.\n",
    "        for i in range(0,len(li)):\n",
    "            if li[i][0]< smallest_right:\n",
    "                break\n",
    "        # while li[0][m] >= smallest_right:\n",
    "        #     m += 1\n",
    "        #m은 박히지 않은 막대기에 1이 추가된 값\n",
    "        li = li[0:i]\n",
    "        print(li)\n",
    "\n",
    "    return num-1\n",
    "\n"
   ]
  },
  {
   "cell_type": "code",
   "execution_count": 60,
   "metadata": {},
   "outputs": [
    {
     "name": "stdout",
     "output_type": "stream",
     "text": [
      "[[7, 9], [7, 12], [7, 11], [6, 7], [6, 10], [6, 8], [5, 9], [4, 9], [3, 5], [2, 6]]\n",
      "[[7, 9], [7, 12], [7, 11], [6, 7], [6, 10], [6, 8], [5, 9]]\n",
      "[[7, 9], [7, 12], [7, 11]]\n",
      "[]\n",
      "2\n"
     ]
    }
   ],
   "source": [
    "li =[[2,2,3,4,5,6,7,9,10,10],[3,4,5,6,6,7,9,10,11,12]]\n",
    "li = [[2,3],[2,4],[3,5],[4,6],[5,6],[6,7],[7,9],[9,10],[10,11],[10,12]]\n",
    "li=[[7,9],[4,9],[2,6],[7,12],[6,7],[5,9],[3,5],[7,11],[6,10],[6,8]]\n",
    "print(coco(li))"
   ]
  },
  {
   "cell_type": "code",
   "execution_count": null,
   "metadata": {},
   "outputs": [],
   "source": []
  },
  {
   "cell_type": "code",
   "execution_count": 25,
   "metadata": {},
   "outputs": [
    {
     "name": "stdout",
     "output_type": "stream",
     "text": [
      "2\n"
     ]
    }
   ],
   "source": [
    "number = int(input())\n",
    "lob = []\n",
    "for i in range(0,number):\n",
    "\trang = input()\n",
    "\tlob.append([int(i) for i in rang.split(' ')])\n",
    "\t\n",
    "print(coco(lob))"
   ]
  },
  {
   "cell_type": "code",
   "execution_count": 13,
   "metadata": {},
   "outputs": [
    {
     "name": "stdout",
     "output_type": "stream",
     "text": [
      "[[4, 6], [3, 4], [3, 7], [2, 7], [1, 6]]\n"
     ]
    }
   ],
   "source": [
    "number = int(input())\n",
    "lob = []\n",
    "for i in range(0,number):\n",
    "    rang = input()\n",
    "    lob.append([int(i) for i in rang.split(' ')])\n",
    "print(coco(lob))"
   ]
  }
 ],
 "metadata": {
  "kernelspec": {
   "display_name": "Python 3",
   "language": "python",
   "name": "python3"
  },
  "language_info": {
   "codemirror_mode": {
    "name": "ipython",
    "version": 3
   },
   "file_extension": ".py",
   "mimetype": "text/x-python",
   "name": "python",
   "nbconvert_exporter": "python",
   "pygments_lexer": "ipython3",
   "version": "3.10.1"
  },
  "orig_nbformat": 4
 },
 "nbformat": 4,
 "nbformat_minor": 2
}
