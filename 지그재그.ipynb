{
 "cells": [
  {
   "attachments": {},
   "cell_type": "markdown",
   "metadata": {},
   "source": [
    "## zigzag수열\n",
    "\n",
    "정수들로 이루어진 sequence를 입력받는다.\n",
    "zigzag 수열이란 전의 숫자가 증가했다면 다음 숫자는 감소, 반대로 감소했다면 증가하는 수열이다.\n",
    "sequence 중 가장 긴 zigzag 수열의 길이를 찾는 문제이다."
   ]
  },
  {
   "cell_type": "code",
   "execution_count": 8,
   "metadata": {},
   "outputs": [
    {
     "name": "stdout",
     "output_type": "stream",
     "text": [
      "[5, 3, 7, 8, 2]\n"
     ]
    }
   ],
   "source": [
    "sequence = [int(x) for x in input(\"\").split(' ')]\n",
    "print(sequence)"
   ]
  },
  {
   "cell_type": "code",
   "execution_count": 23,
   "metadata": {},
   "outputs": [
    {
     "name": "stdout",
     "output_type": "stream",
     "text": [
      "0\n",
      "1\n",
      "2\n",
      "3\n"
     ]
    }
   ],
   "source": [
    "low_dp = [1]\n",
    "high_dp = [1]\n",
    "\n",
    "#high_dp는 특정 위치의 숫자가 큰 상태로 끝나는 경우, low_dp는 작은 상태로 끝나는 경우이다.\n",
    "#high_dp는 특정 위치(i)의 숫자보다 작은 숫자들을 모아서 그 숫자들로 끝나는 경우 중 가장 긴 경우를 뽑아야 할 것이다.(dp에 저장되어 있음)\n",
    "#가장 긴 경우를 뽑고 1을 더해준다.\n",
    "\n",
    "for seq_loc in range(1,len(sequence)):\n",
    "    low_max = 0\n",
    "    high_max = 0\n",
    "    for before_loc in range(seq_loc):\n",
    "\n",
    "        #특정 위치의 숫자가 큰 상태로 끝나는 경우 low_dp\n",
    "        #작은 숫자를 가지고 있는 위치 중에서 가장 긴 sequence 찾기\n",
    "        if sequence[before_loc] < sequence[seq_loc] :\n",
    "            if low_dp[before_loc] > low_max:\n",
    "                #low_max는 high_dp에 1을 추가해서 최종적으로 들어갈 값 중 후보\n",
    "                low_max = low_dp[before_loc]\n",
    "        \n",
    "        if sequence[before_loc] > sequence[seq_loc] :\n",
    "            if seq_loc == 4 :\n",
    "                print(before_loc)\n",
    "            if high_dp[before_loc] > high_max:\n",
    "                high_max = high_dp[before_loc]\n",
    "\n",
    "        \n",
    "    high_dp.append(low_max+1)\n",
    "    low_dp.append(high_max+1)\n",
    "\n",
    "\n",
    "\n",
    "\n",
    "\n"
   ]
  },
  {
   "cell_type": "code",
   "execution_count": 76,
   "metadata": {},
   "outputs": [
    {
     "name": "stdout",
     "output_type": "stream",
     "text": [
      "max length : 4\n"
     ]
    }
   ],
   "source": [
    "print(f\"max length : {max(*high_dp,*low_dp)}\")"
   ]
  }
 ],
 "metadata": {
  "kernelspec": {
   "display_name": "Python 3",
   "language": "python",
   "name": "python3"
  },
  "language_info": {
   "codemirror_mode": {
    "name": "ipython",
    "version": 3
   },
   "file_extension": ".py",
   "mimetype": "text/x-python",
   "name": "python",
   "nbconvert_exporter": "python",
   "pygments_lexer": "ipython3",
   "version": "3.10.1"
  },
  "orig_nbformat": 4
 },
 "nbformat": 4,
 "nbformat_minor": 2
}
