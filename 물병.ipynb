{
 "cells": [
  {
   "cell_type": "markdown",
   "metadata": {},
   "source": [
    "# 물병 채우기\n",
    "\n",
    "## 문제\n",
    "\n",
    "1L짜리의 물병이 N개 존재한다.  \n",
    "이 물병을 합쳐서 k개의 물병으로 바꿔야 한다.  \n",
    "문제는 같은 용량의 물병만 합칠 수 있다.  \n",
    "k개의 물병으로 줄이기 위해서는 최소 몇개의 물병이 추가가 되어야 하는가?\n",
    "\n",
    "## Algorithm\n",
    "\n",
    "1. 물병은 2^nL만 담고 있을 수 있다.(1,2,4...) 물병의 용량을 표시한 리스트와 그에 해당하는 물병 개수 리스트를 정의한다.\n",
    "\n",
    "2. 가장 큰 L 부터 채워가며 만들 수 있는 가장 적은 물병의 개수a를 만드는 함수를 정의한다.  \n",
    "가장 적은 물병의 개수를 만들면 물병의 개수를 늘릴 수는 있지만 줄일 수는 없음 즉 k가 a보다 크다면 추가할 물병이 없지만,  \n",
    "a보다 작다면 물병을 늘려주어야 함.\n",
    "\n",
    "3. a를 찾고 나면 물병을 추가하면서 k만큼 개수를 줄여야 한다.  \n",
    "최소 물병 개수를 찾으면 특정 리터당 존재하는 물병의 개수는 1개 아니면 0개일 것이다.  \n",
    "1이 있는 곳 중에 작은 리터를 가진 물병 두 군데를 찾아서 더 큰 물병으로 합치기 위한 물병의 개수를 구하고 합친다.  \n",
    "그러면 물병의 개수가 한개 감소할 것이다. k를 만족할 때 까지 반복한다.  \n",
    "\n"
   ]
  },
  {
   "cell_type": "code",
   "execution_count": 4,
   "metadata": {},
   "outputs": [],
   "source": [
    "import math"
   ]
  },
  {
   "cell_type": "code",
   "execution_count": 42,
   "metadata": {},
   "outputs": [
    {
     "name": "stdout",
     "output_type": "stream",
     "text": [
      "540 2\n",
      "[1, 2, 4, 8, 16, 32, 64, 128, 256, 512, 1024]\n",
      "[0, 0, 0, 0, 0, 0, 0, 0, 0, 0, 0]\n"
     ]
    }
   ],
   "source": [
    "\n",
    "# N(가지고 있는 물병 개수),k(줄이고 싶은 물병 개수)입력 \n",
    "\n",
    "N,k = [int(n) for n in input('').split(' ')]\n",
    "print(N,k)\n",
    "\n",
    "#초기 물병 정의\n",
    "b_volume = [2**i for i in range(0,int(math.log(N,2)+2))]\n",
    "print(b_volume)\n",
    "b_number = [0]*len(b_volume)\n",
    "print(b_number)"
   ]
  },
  {
   "cell_type": "code",
   "execution_count": 46,
   "metadata": {},
   "outputs": [
    {
     "name": "stdout",
     "output_type": "stream",
     "text": [
      "540\n",
      "28\n",
      "28\n",
      "28\n",
      "28\n",
      "28\n",
      "12\n",
      "4\n",
      "0\n",
      "0\n",
      "0\n",
      "최소한의 물병으로 채워진 상태:[0, 0, 1, 1, 1, 0, 0, 0, 0, 1, 0]\n"
     ]
    }
   ],
   "source": [
    "#물병의 개수 최대한으로 줄여주는 함수 정의\n",
    "#2^k > (1+2^1+...+2^(k-1))이므로 N보다 작은 가장 큰 이진수 부터 채우면 물병의 개수는 최소로 줄일 수 있다.\n",
    "\n",
    "def min_number(N,k):\n",
    "\n",
    "    remain_volume = N\n",
    "\n",
    "    for i in range(len(b_volume)-1,-1,-1) :\n",
    "        if b_volume[i] <= remain_volume:\n",
    "            b_number[i] = 1\n",
    "            remain_volume -= b_volume[i]\n",
    "        print(remain_volume)\n",
    "\n",
    "min_number(N,k)\n",
    "print(f\"최소한의 물병으로 채워진 상태:{b_number}\")"
   ]
  },
  {
   "cell_type": "code",
   "execution_count": null,
   "metadata": {},
   "outputs": [],
   "source": [
    "#물병의 개수 줄여주는 함수 정의\n",
    "\n",
    "def "
   ]
  }
 ],
 "metadata": {
  "kernelspec": {
   "display_name": "Python 3",
   "language": "python",
   "name": "python3"
  },
  "language_info": {
   "codemirror_mode": {
    "name": "ipython",
    "version": 3
   },
   "file_extension": ".py",
   "mimetype": "text/x-python",
   "name": "python",
   "nbconvert_exporter": "python",
   "pygments_lexer": "ipython3",
   "version": "3.10.1"
  },
  "orig_nbformat": 4
 },
 "nbformat": 4,
 "nbformat_minor": 2
}
