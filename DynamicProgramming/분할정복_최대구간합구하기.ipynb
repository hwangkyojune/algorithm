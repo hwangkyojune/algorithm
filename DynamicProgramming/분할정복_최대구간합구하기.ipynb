{
 "cells": [
  {
   "cell_type": "code",
   "execution_count": 1,
   "id": "4d385b77",
   "metadata": {},
   "outputs": [
    {
     "name": "stdout",
     "output_type": "stream",
     "text": [
      "1 -5 3 7 9 -8 5 -6 -1\n",
      "19\n"
     ]
    }
   ],
   "source": [
    "def find_max_right(A,near,far): #오른쪽에서 가장 큰 값 출력,수행시간 c(left-right)\n",
    "    current_max = 0\n",
    "    current_sum = 0\n",
    "    for i in A[near:far+1]:\n",
    "        current_sum += i\n",
    "        if current_sum > current_max :\n",
    "            current_max = current_sum\n",
    "            \n",
    "    if current_max < 0:\n",
    "        return 0\n",
    "    \n",
    "    return current_max\n",
    "\n",
    "def find_max_left(A,near,far): #왼쪽에서 가장 큰 값 출력,수행시간 c(left-right)\n",
    "    if near < far :\n",
    "        return 0\n",
    "    if near == far:\n",
    "        return A[near]\n",
    "    \n",
    "    current_max = 0\n",
    "    current_sum = 0\n",
    "    for i in range(near, far-1, -1):\n",
    "        current_sum += A[i]\n",
    "        if current_sum > current_max :\n",
    "            current_max = current_sum\n",
    "            \n",
    "    \n",
    "    return current_max\n",
    "\n",
    "def max_sum(A, left, right):\n",
    "    # A[left], ..., A[right] 중 최대 구간 합 리턴\n",
    "\t\t#max_left,max_right에서 왼쪽에서 가장 큰값, 오른쪽에서 가장 큰값을 return하고 중간값 m을 더해주면 m을 포함하고 있는 값중에서 가장 큰 값을 구할 수 있다. 수행시간cn\n",
    "\t\t#m을 끼고 있지 않은 경우에 최대값이 없는 경우 m을 제외한 왼쪽이나 오른쪽에서 최대값이 존재할 것이다. m을 제외한 각각의 범위를 max_sum함수로 재귀적으로 불러내면 최대값을 구할 수 있다. \n",
    "\t\t#좌우로 최대값을 구하는 경우 범위가 반으로 줄고 두개의 경우로 나눠지기 때문에 2T(1/2n)\n",
    "\t\t#수행시간 T(n) = 2T(1/2n)+cn = 2^kT(1/2Kn)+kcn = n + cnlogn bigO로 표기하면 O(nlogn)\n",
    "\t\t\n",
    "    if (left >= right) :\n",
    "        return A[left]\n",
    "    \n",
    "    m = (left + right)//2\n",
    "\n",
    "    max_median = find_max_left(A,m-1,left) + A[m] +find_max_right(A,m+1,right) #m을 포함하고 있는 값에서 가장 큰 값 출력 \n",
    "    max_left = max_sum(A,left,m-1)\n",
    "    max_right = max_sum(A,m+1,right)\n",
    "    \n",
    "    rmax = max_median\n",
    "    \n",
    "    if max_left > max_right:\n",
    "        med = max_left\n",
    "    else:\n",
    "        med = max_right\n",
    "    if max_median < med:\n",
    "        rmax = med\n",
    "    return rmax\n",
    "\n",
    "A = [int(x) for x in input().split()]\n",
    "sol = max_sum(A, 0, len(A)-1)\n",
    "\n",
    "print(sol)\n"
   ]
  },
  {
   "cell_type": "code",
   "execution_count": null,
   "id": "486d6e6f",
   "metadata": {},
   "outputs": [],
   "source": []
  }
 ],
 "metadata": {
  "kernelspec": {
   "display_name": "Python 3 (ipykernel)",
   "language": "python",
   "name": "python3"
  },
  "language_info": {
   "codemirror_mode": {
    "name": "ipython",
    "version": 3
   },
   "file_extension": ".py",
   "mimetype": "text/x-python",
   "name": "python",
   "nbconvert_exporter": "python",
   "pygments_lexer": "ipython3",
   "version": "3.10.1"
  }
 },
 "nbformat": 4,
 "nbformat_minor": 5
}
