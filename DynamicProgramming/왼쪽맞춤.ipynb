{
 "cells": [
  {
   "cell_type": "code",
   "execution_count": 48,
   "metadata": {},
   "outputs": [],
   "source": [
    "#마지막 줄에 가능한 단어의 경우의 수가 i개라고 하면 pannelty의 최솟값은 A[n] = min(A[n-1]+p(w-l1),A[n-2]+p(w-l2),...,A[n-i]+p(w-li))\n",
    "#의 식으로 구할 수 있을 것이다.A[n-i]는 i개의 단어가 한 줄에 채워진다고 가정했으니 나머지 단어들로 만들 수 있는 가장 적은 패널티를 더해주면 된다.\n",
    "#나머지 단어들로 만들 수 있는 가장 적은 패널티는 dp에 차례대로 채워줄 수 있다. 차례대로 채워준다면 dp의 마지막 요소가 전체 길이의 최솟값이 될 것이다.\n",
    "#dp를 채우는 방법은 먼저 dp[0],dp[1] 아무것도 채우지 않은 상태와 맨 앞 한단어가 있는 것 부터 채운다. 그리고 각 단어가 추가 될 때마다의 최솟값(min(i))을 구할 것이다.\n",
    "#min(i)는 i번째 단어까지로 만들 수 있는 문장 중 최소 패널티 값을 구하는 것이므로 앞에 설명한 것과 같이 마지막줄에 위치할 수 있는 모든 경우중 최솟값일 것이다.\n",
    "#앞에서 i번째보다 적은 단어로 만들 수 있는 dp는 만들었기 때문에 dp[i] = min(d[i-1]+p1,dp[i-2],...,dp[i-k]) 마지막 줄에 가능한 경우의 개수 k개만 비교하면 된다.\n",
    "#i번째에서 최대 많이 비교하는 횟수는 i번일 것이다. 즉 최악의 경우의 i번째 비교횟수는 i이다. n개의 단어가 모두 한줄에 채워지는 최악의 경우라면 수행시간은 c(1+2+...n)\n",
    "#일것이다 C*(n+1)n/2가 될 것이고 big-o 표기법으로 표시하면 O(n^2)이 될것이다. \n",
    "\n",
    "W = int(input())\n",
    "words = input().split()"
   ]
  },
  {
   "cell_type": "code",
   "execution_count": 45,
   "metadata": {},
   "outputs": [
    {
     "name": "stdout",
     "output_type": "stream",
     "text": [
      "12 ['ape', 'eats', 'apple', 'cider', 'a', 'lot.']\n"
     ]
    }
   ],
   "source": [
    "print(W,words)"
   ]
  },
  {
   "cell_type": "code",
   "execution_count": 46,
   "metadata": {},
   "outputs": [
    {
     "name": "stdout",
     "output_type": "stream",
     "text": [
      "1\n",
      "1\n",
      "후보 [1241, 64]\n",
      "2\n",
      "2\n",
      "후보 [407, 737]\n",
      "3\n",
      "3\n",
      "후보 [750, 65]\n",
      "4\n",
      "4\n",
      "후보 [1396, 532]\n",
      "5\n",
      "5\n",
      "5\n",
      "후보 [1044, 281, 407]\n"
     ]
    },
    {
     "data": {
      "text/plain": [
       "[0, 729, 64, 407, 65, 532, 281]"
      ]
     },
     "execution_count": 46,
     "metadata": {},
     "output_type": "execute_result"
    }
   ],
   "source": [
    "dplist = [0,(W-len(words[0]))**3]\n",
    "\n",
    "for location in range(1,len(words)):#location의 단어까지로 만들 수 있는 문장이 갖는 최소 패널티를 채우기 위해 단어 수 만큼 반복 \n",
    "    candidate = []\n",
    "    sub_location = location\n",
    "    linelen = 0\n",
    "    number = 0\n",
    "\n",
    "    while linelen <= W and sub_location >=0:#마지막 줄이 W(한 줄의 길이)보다 커지지 않을 때까지만 반복\n",
    "        \n",
    "        if (linelen + len(words[sub_location]) ) >  W : break\n",
    "\n",
    "        linelen += (len(words[sub_location]))\n",
    "        sub_location -=1\n",
    "        number += 1\n",
    "        #마지막 줄에 올 수 있는 단어의 경우가 최소 패널티를 가질 수 있는 후보, 맨 마지막에 줄에 올 수 있는 단어들을 뺀 문장으로 만들 수 있는 panelty와 \n",
    "        #마지막 줄의 pannelty 더함\n",
    "        candidate.append(dplist[location - number+1]+(W-linelen)**3) \n",
    "        linelen += 1\n",
    "\n",
    "    dplist.append(min(candidate)) #후보 중 최솟값이 i번째까지의 단어로 만들 수 있는 가장 적은 panelty를 갖는 왼쪽 맞춤 \n",
    "    print(dplist[-1])"
   ]
  }
 ],
 "metadata": {
  "kernelspec": {
   "display_name": "Python 3",
   "language": "python",
   "name": "python3"
  },
  "language_info": {
   "codemirror_mode": {
    "name": "ipython",
    "version": 3
   },
   "file_extension": ".py",
   "mimetype": "text/x-python",
   "name": "python",
   "nbconvert_exporter": "python",
   "pygments_lexer": "ipython3",
   "version": "3.10.1"
  },
  "orig_nbformat": 4
 },
 "nbformat": 4,
 "nbformat_minor": 2
}
