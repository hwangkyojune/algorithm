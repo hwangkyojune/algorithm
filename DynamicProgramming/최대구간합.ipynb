{
 "cells": [
  {
   "cell_type": "code",
   "execution_count": null,
   "metadata": {},
   "outputs": [],
   "source": [
    "n = int(input())\n",
    "number = input()\n",
    "number = [int(x) for x in number.split()]\n",
    "\n",
    "\n",
    "#A[j]로 끝나는 구간이 있다고 하면, A[j] 나 A[j-1]로 끝나는 수 중 최대 합을 A[j]에 더한 것 중에 하나 일 것이다.\n",
    "#결국 dp에 채울 요소는 j번째라고 하면 j번째로 끝나는 수열 중 가장 값이 큰 구간을 채우면 될 것이다.\n",
    "\n",
    "#max_sum에는 j번째로 끝나는 수열 중 최대합을 넣을 것\n",
    "if number[0] > 0 : max_sum = [number[0]]\n",
    "else : max_sum = [0]\n",
    "\n",
    "for i in range(1,len(number)):\n",
    "\tif max_sum[i-1] > 0 : \n",
    "\t\tmax_sum.append(max_sum[i-1] + number[i]) \n",
    "\telif max_sum[i-1] <= 0 :\n",
    "\t\tmax_sum.append(number[i])\n",
    "\n",
    "print(max(max_sum))"
   ]
  }
 ],
 "metadata": {
  "language_info": {
   "name": "python"
  },
  "orig_nbformat": 4
 },
 "nbformat": 4,
 "nbformat_minor": 2
}
