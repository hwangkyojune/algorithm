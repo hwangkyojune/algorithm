{
 "cells": [
  {
   "cell_type": "code",
   "execution_count": 1,
   "id": "fa0c21b1",
   "metadata": {},
   "outputs": [
    {
     "name": "stdout",
     "output_type": "stream",
     "text": [
      "0 1 2 3 4 5\n",
      "0\n"
     ]
    }
   ],
   "source": [
    "#중간값m이 맨 왼쪽에 있는 값 보다 크다면 rotation은 오른쪽에서 일어났을 것이다.T(n/2)\n",
    "#m이 맨 오른쪽에 있는 값 보다 크다면 rotation은 완쪽에서 일어났을 것이다.\n",
    "#범위를 줄여나가다 범위의 길이가 0이 되면 도달한 인덱스가 rotation이 일어난 곳일 것이다.\n",
    "#리스트의 길이에서 rotation이 일어난 인덱스를 빼면 rotaion의 위치가 나온다.\n",
    "#T(n) = T(1/2n) + c = T(1/(2^k)n) + c*k = c*logn -> bigO(logn)\n",
    "\n",
    "def rotation(A,left,right) :\n",
    "    m = (right+left)//2\n",
    "    if(left == len(A)-1):\n",
    "        return 0\n",
    "    if(left == right) :\n",
    "        return (len(A)-right)\n",
    "    \n",
    "    if (A[m] >= A[left]): #A[m]이 A[left]보다 큰 경우 오른쪽 범위에 있음\n",
    "        \n",
    "        if A[m]>A[m+1]:\n",
    "            return len(A)-1-(m)\n",
    "        left = m+1\n",
    "        return rotation(A,left,right)\n",
    "    \n",
    "    else: #A[m]이 A[right]보다 작은 경우 왼쪽 범위에 있음\n",
    "        right = m\n",
    "        return rotation(A,left,right)\n",
    "\n",
    "ascending = [int(i) for i in input().split()]\n",
    "print(rotation(ascending,0,len(ascending)-1))\n"
   ]
  },
  {
   "cell_type": "code",
   "execution_count": null,
   "id": "ff0fdbc5",
   "metadata": {},
   "outputs": [],
   "source": []
  }
 ],
 "metadata": {
  "kernelspec": {
   "display_name": "Python 3 (ipykernel)",
   "language": "python",
   "name": "python3"
  },
  "language_info": {
   "codemirror_mode": {
    "name": "ipython",
    "version": 3
   },
   "file_extension": ".py",
   "mimetype": "text/x-python",
   "name": "python",
   "nbconvert_exporter": "python",
   "pygments_lexer": "ipython3",
   "version": "3.10.1"
  }
 },
 "nbformat": 4,
 "nbformat_minor": 5
}
