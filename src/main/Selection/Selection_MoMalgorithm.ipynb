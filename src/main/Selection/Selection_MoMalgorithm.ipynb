{
 "cells": [
  {
   "cell_type": "code",
   "execution_count": 10,
   "id": "2038cdc5",
   "metadata": {},
   "outputs": [],
   "source": [
    "def max(A):\n",
    "    current_max = A[0]\n",
    "    for i in range(1,len(A)):\n",
    "        if A[i] > current_max :\n",
    "            current_max = A[i]\n",
    "    return current_max"
   ]
  },
  {
   "cell_type": "code",
   "execution_count": 13,
   "id": "94d60bac",
   "metadata": {},
   "outputs": [],
   "source": [
    "import numpy as np"
   ]
  },
  {
   "cell_type": "code",
   "execution_count": 22,
   "id": "1305d6e2",
   "metadata": {},
   "outputs": [
    {
     "data": {
      "text/plain": [
       "0"
      ]
     },
     "execution_count": 22,
     "metadata": {},
     "output_type": "execute_result"
    }
   ],
   "source": [
    "A = np.random.randint(1,100,10)\n",
    "B=[]\n",
    "len(B)"
   ]
  },
  {
   "cell_type": "code",
   "execution_count": 26,
   "id": "4289b5e7",
   "metadata": {},
   "outputs": [],
   "source": [
    "def find_median_five(A):\n",
    "    current_max = A[0]\n",
    "    for i in range(1,len(A)):\n",
    "        if A[i] > current_max :\n",
    "            current_max = A[i]\n",
    "    return current_max"
   ]
  },
  {
   "cell_type": "code",
   "execution_count": 29,
   "id": "3e05739e",
   "metadata": {},
   "outputs": [],
   "source": [
    "def MoM(A,k):\n",
    "    if len(A) == 1 : return A[0]\n",
    "    S,L,M,medians = [],[],[],[]\n",
    "    i=0\n",
    "    while i+4 < len(A):\n",
    "        medians.append(find_median_five(A[i:i+5]))\n",
    "        i = i+5\n",
    "    if i < len(A) and i+4 >= len(A):\n",
    "        medians.append(find_median_five(A[i:]))\n",
    "    \n",
    "    mom = MoM(medians,len(medians)//2)\n",
    "    \n",
    "    for v in A:\n",
    "        if v > mom : S.append(v)\n",
    "        elif v < mom : L.append(v)\n",
    "        else : M.append(v)\n",
    "        \n",
    "    if len(S) >= k : return MoM(S,k)\n",
    "    elif len(S)+len(M) < k : return MoM(L,k-len(S)-len(M))\n",
    "    else : return mom"
   ]
  },
  {
   "cell_type": "code",
   "execution_count": 30,
   "id": "e7bdd275",
   "metadata": {},
   "outputs": [],
   "source": [
    "def insertion(A):\n",
    "    for i in range(0,len(A)-1):\n",
    "        for j in range(i,-1,-1):\n",
    "            if A[j] > A[j+1]:\n",
    "                A[j],A[j+1] = A[j+1],A[j]\n",
    "            else :\n",
    "                break"
   ]
  },
  {
   "cell_type": "code",
   "execution_count": 32,
   "id": "4261370a",
   "metadata": {},
   "outputs": [
    {
     "name": "stdout",
     "output_type": "stream",
     "text": [
      "74\n"
     ]
    },
    {
     "data": {
      "text/plain": [
       "array([ 2, 28, 32, 35, 44, 45, 48, 74, 77, 86])"
      ]
     },
     "execution_count": 32,
     "metadata": {},
     "output_type": "execute_result"
    }
   ],
   "source": [
    "A = np.random.randint(1,100,10)\n",
    "print(MoM(A,3))\n",
    "insertion(A)\n",
    "A"
   ]
  },
  {
   "cell_type": "code",
   "execution_count": 9,
   "id": "c85d3605",
   "metadata": {},
   "outputs": [],
   "source": [
    "def find_median_five(A):\n",
    "    current_max = A[i]\n",
    "    for i in range(1,len(A)):\n",
    "        if A[i] > current_max :\n",
    "            current_max = A[i]\n",
    "    return current_max"
   ]
  },
  {
   "cell_type": "code",
   "execution_count": null,
   "id": "bd58adfa",
   "metadata": {},
   "outputs": [],
   "source": [
    "def MoM(A,k):\n",
    "    if len(A) == 1: return A[0]\n",
    "    S,L,M, medians = [], [], [], []\n",
    "    \n",
    "    i =0\n",
    "    while i+4 < len(A):\n",
    "        medians.append(find_median_five(A[i:i+5]))\n",
    "        i += 5\n",
    "    if i < len(A) and i+4 > len(A):\n",
    "        medians.append(find_median_five(A[i:-1]))\n",
    "        \n",
    "    mom = MoM(medians,len(medians)//2)\n",
    "    \n",
    "    for i in A:\n",
    "        if i < mom : S.append(i)\n",
    "        elif i > mom : L.append(i)\n",
    "        else : M.append(i)\n",
    "        \n",
    "    if len(S) > k : MoM(S,k)\n",
    "    elif len(S)+len(M) < k : MoM(L,k)\n",
    "    else : return mom"
   ]
  },
  {
   "cell_type": "code",
   "execution_count": null,
   "id": "d84f08b1",
   "metadata": {},
   "outputs": [],
   "source": [
    "def binary_search(A,l,r,k):\n",
    "    if l > r:\n",
    "        return -1\n",
    "    m = (l+r)//2\n",
    "    if A[m] > k :\n",
    "        binary_search(A,l,m-1,k)\n",
    "    elif A[m] < k :\n",
    "        binary_search(A,m+1,r,k)\n",
    "    else :\n",
    "        return m"
   ]
  },
  {
   "cell_type": "code",
   "execution_count": 40,
   "id": "8ae48339",
   "metadata": {},
   "outputs": [
    {
     "ename": "IndexError",
     "evalue": "list index out of range",
     "output_type": "error",
     "traceback": [
      "\u001b[1;31m---------------------------------------------------------------------------\u001b[0m",
      "\u001b[1;31mIndexError\u001b[0m                                Traceback (most recent call last)",
      "Input \u001b[1;32mIn [40]\u001b[0m, in \u001b[0;36m<cell line: 4>\u001b[1;34m()\u001b[0m\n\u001b[0;32m      8\u001b[0m     A \u001b[38;5;241m=\u001b[39m []\n\u001b[0;32m      9\u001b[0m     \u001b[38;5;28;01mfor\u001b[39;00m i \u001b[38;5;129;01min\u001b[39;00m \u001b[38;5;28mrange\u001b[39m(B):\n\u001b[1;32m---> 10\u001b[0m         A \u001b[38;5;241m+\u001b[39m\u001b[38;5;241m=\u001b[39m \u001b[43mslots\u001b[49m\u001b[43m[\u001b[49m\u001b[43mi\u001b[49m\u001b[43m]\u001b[49m\n\u001b[0;32m     11\u001b[0m     \u001b[38;5;28;01mdel\u001b[39;00m slots\n\u001b[0;32m     12\u001b[0m A\n",
      "\u001b[1;31mIndexError\u001b[0m: list index out of range"
     ]
    }
   ],
   "source": [
    "import numpy as np\n",
    "A = np.random.randint(1,1000,100)\n",
    "B = 10\n",
    "for i in range(3):\n",
    "    slots = [[] for i in range(1,10)]\n",
    "    for a in A :\n",
    "        slots[a%(B**i)].append(a)\n",
    "    A = []\n",
    "    for i in range(B):\n",
    "        A += slots[i]\n",
    "    del slots\n",
    "A"
   ]
  },
  {
   "cell_type": "code",
   "execution_count": 35,
   "id": "dab225d3",
   "metadata": {},
   "outputs": [
    {
     "data": {
      "text/plain": [
       "[[], [], [], [], [], [], [], [], []]"
      ]
     },
     "execution_count": 35,
     "metadata": {},
     "output_type": "execute_result"
    }
   ],
   "source": [
    "slot = [[] for i in range(1,10)]\n",
    "slot"
   ]
  },
  {
   "cell_type": "code",
   "execution_count": 37,
   "id": "c358fd07",
   "metadata": {},
   "outputs": [
    {
     "data": {
      "text/plain": [
       "486"
      ]
     },
     "execution_count": 37,
     "metadata": {},
     "output_type": "execute_result"
    }
   ],
   "source": [
    "a = 53486\n",
    "a % 1000"
   ]
  }
 ],
 "metadata": {
  "kernelspec": {
   "display_name": "Python 3 (ipykernel)",
   "language": "python",
   "name": "python3"
  },
  "language_info": {
   "codemirror_mode": {
    "name": "ipython",
    "version": 3
   },
   "file_extension": ".py",
   "mimetype": "text/x-python",
   "name": "python",
   "nbconvert_exporter": "python",
   "pygments_lexer": "ipython3",
   "version": "3.10.1"
  }
 },
 "nbformat": 4,
 "nbformat_minor": 5
}
