{
 "cells": [
  {
   "attachments": {},
   "cell_type": "markdown",
   "metadata": {},
   "source": [
    "## N-queens algorithm\n",
    "N x N 체스판에 N개의 queen을 서로 같은 행,열,대각선에 오지 않도록 배치하는 문제\n",
    "\n",
    "### 사고흐름\n",
    "1. 한 행에 한 queen을 둔다면 필연적으로 동일한 행의 체스판에는 둘 수 없으니 다음 행으로 넘어간다.\n",
    "2. queen을 두었는데 열,대각선에 배치되지 않았다면 다음 행에 갈 자격이 있다.\n",
    "3. 만약 겹친다면 다음 행에 갈 필요없이 그 아래에는 배치하지 않고, 그 위치에서 다음 열로 넘어간다.\n",
    "4. 열이 범위를 넘어가면 그 행에는 둘 수 없다고 판단하고 전으로 돌아가서 다음 열로 넘어간다.\n",
    "\n",
    "### 계획\n",
    "Backtragking algorithm을 사용할 계획  \n",
    "행의 길이보다 더 많이 내려간다면 -> 배치 성공  \n",
    "한 재귀함수의 깊이는 행 번호 -> 처음에 조건문으로 행 번호를 초과했는지 검사해 초과한다면 return True\n",
    "\n",
    "### 예상 결과\n",
    "체스판에 queen들이 문제없이 배치되는 경우의 수"
   ]
  },
  {
   "cell_type": "code",
   "execution_count": null,
   "metadata": {},
   "outputs": [],
   "source": [
    "def B(k, col): # queen이 이전에 배치된 것들을 기준으로 그 위치에 배치가 가능한지 확인하는 함수\n",
    "\tfor i in range(1,k):\n",
    "\t\tif x[i] == col : #같은 열에 있는지 확인\n",
    "\t\t\treturn False\n",
    "\t\t\n",
    "\t\telif abs(col-x[i]) == (k-i): #같은 대각선에 있는지 확인\n",
    "\t\t\treturn False\n",
    "\t\t\n",
    "\treturn True #모두 다 통과되었다면 그 위치에 와도 된다.\n",
    "\t\n",
    "def nQueens(k): # decide a valid x[k]\n",
    "\tglobal sol  # sol: 전역 변수로 사용한다는 의미\n",
    "\tif k > n:\n",
    "\t\tsol += 1 # 해가 하나 발견되어 갯수 증가\n",
    "\t\treturn\n",
    "\tfor col in range(1, n+1):\n",
    "\t\tif B(k, col):\n",
    "\t\t\tx[k] = col\n",
    "\t\t\tnQueens(k+1)\n",
    "\n",
    "n = int(input())\n",
    "x = [0]*(n+1) # 해를 기록\n",
    "sol = 0 # 해의 개수를 기록\n",
    "nQueens(1)\n",
    "print(sol)"
   ]
  }
 ],
 "metadata": {
  "kernelspec": {
   "display_name": "Python 3",
   "language": "python",
   "name": "python3"
  },
  "language_info": {
   "name": "python",
   "version": "3.10.1"
  },
  "orig_nbformat": 4
 },
 "nbformat": 4,
 "nbformat_minor": 2
}
