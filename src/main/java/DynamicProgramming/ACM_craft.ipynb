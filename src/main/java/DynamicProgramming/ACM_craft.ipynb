{
 "cells": [
  {
   "cell_type": "markdown",
   "metadata": {},
   "source": [
    "# ACM_craft  \n",
    "어떤 건물을 생성하기 위해서 먼저 생성해야 할 건물들이 존재한다.  \n",
    "건물들마다 생성시간이 존재하고, 명령을 내리는 시간은 고려하지 않는다.  \n",
    "최소한의 시간으로 원하는 건물을 짓는 시간을 구하는 문제.  \n",
    "\n",
    "## algorithm\n",
    "1. 테스트 케이스 입력\n",
    "2. 여러 테스트 케이스가 필요하니까 한 케이스 마다의 객체 TestCase class 정의.  \n",
    "class TestCase에는 속성 건물 개수, 건물 간의 건설 규칙 개수, 건물 순서 규칙, 어떤 건물을 만들 지에 대한 속성이 필요함.\n",
    "3. \n",
    "    Ti : i번째 건물까지 생성하는데 걸리는 시간의 최솟값\n",
    "    Pi : i번째 건물을 생성하는데 걸리는 시간\n",
    "    Ti는 i번째 건물을 생성하는데 필요한 건물이 생성되는 총 시간의 최솟값 중 최대값에 Pi를 더한 값\n",
    "\n",
    "4. 원하는 건물의 최솟값을 DP table에서 반환\n",
    "5. 테스트 케이스 개수 만큼 객체 생성해서 반복 수행  \n",
    "주의!! 주피터에서는 sys.stdin.readline() 실행이 안 되므로 input()으로 바꾸어줄 것"
   ]
  },
  {
   "cell_type": "code",
   "execution_count": 1,
   "metadata": {},
   "outputs": [],
   "source": [
    "import sys\n",
    "tnumber = int(input())\n",
    "\n",
    "class TestCase:\n",
    "    #건물 개수, 건물간의 건설 규칙 개수, 건물 순서 규칙 내용, 어떤 건물을 만들지\n",
    "    def __init__(self,pnumber,p_time,pcontent,wanted_plant):\n",
    "\n",
    "        self.pnumber = pnumber\n",
    "        self.p_time =p_time\n",
    "        self.pcontent = pcontent\n",
    "        self.wanted_plant = wanted_plant\n",
    "        self.dp = [None]*self.pnumber\n",
    "\n",
    "        self.mintime = self.min_times(self.wanted_plant)\n",
    "    \n",
    "    #Dp table\n",
    "    def min_times(self,plant):\n",
    "\n",
    "        if self.dp[plant] is not None:\n",
    "            return self.dp[plant]\n",
    "        \n",
    "        #특정 건물의 content가 존재하지 않으면(빈 리스트를 가지고 있다면) 그 건물의 건설 시간만 반환하면 됨.\n",
    "        if not self.pcontent[plant]:\n",
    "            print(f\"dp추가{self.p_time}\")\n",
    "            self.dp[plant] = self.p_time[plant]\n",
    "            return self.p_time[plant]\n",
    "        #특정 건물의 content가 존재한다면 연결된 건물 중 건설되는 총 시간이 가장 긴 건물에 건물 생산시간을 더하면 됨.\n",
    "        else :\n",
    "            max_btotal = max([self.min_times(related_plant) for related_plant in self.pcontent[plant]])\n",
    "            print(f\"건물번호:{plant}\")\n",
    "            print(f\"타입:{max_btotal},{self.p_time[plant]}\")\n",
    "            self.dp[plant] = self.p_time[plant] + max_btotal\n",
    "            return self.p_time[plant] + max_btotal\n",
    "        \n",
    "        # for i in range(self.wanted_plant+1):\n",
    "        #   #연결된 건물 중 가장 큰 값 찾기\n",
    "        #     self.current_max = 0\n",
    "        #     for plant in self.pcontent[i]:\n",
    "        #         if self.dp[plant] > self.current_max :\n",
    "        #             self.current_max = self.dp[plant]\n",
    "                    \n",
    "        #     self.dp[i] = self.current_max + self.p_time[i]\n",
    "        #     print(self.current_max)\n",
    "\n",
    "        \n",
    "\n",
    "    #return min_time of i\n",
    "    def return_min_time(self,wanted_plant):\n",
    "        return self.mintime"
   ]
  },
  {
   "cell_type": "code",
   "execution_count": 2,
   "metadata": {},
   "outputs": [],
   "source": [
    "all_result = []\n",
    "\n",
    "for i in range(0,tnumber):\n",
    "    \n",
    "    pnumber,prnum = [int(i) for i in sys.stdin.readline().split(' ')]\n",
    "\n",
    "    p_time = [int(i) for i in sys.stdin.readline().split(' ')] \n",
    "\n",
    "    pcontent = dict(zip(range(pnumber),[[] for i in range(pnumber)]))\n",
    "    for j in range(0,prnum):\n",
    "        bf,af = [int(i)-1 for i in sys.stdin.readline().split(' ')]\n",
    "        pcontent[af].append(bf)\n",
    "        \n",
    "    wanted_plant = int(sys.stdin.readline())-1\n",
    "\n",
    "    test = TestCase(pnumber,p_time,pcontent,wanted_plant)\n",
    "    all_result.append(test.return_min_time(wanted_plant))\n",
    "\n",
    "for i in all_result :\n",
    "    print(i)\n",
    "\n",
    "\n"
   ]
  },
  {
   "cell_type": "code",
   "execution_count": 120,
   "metadata": {},
   "outputs": [
    {
     "data": {
      "text/plain": [
       "[None, None, None, None]"
      ]
     },
     "execution_count": 120,
     "metadata": {},
     "output_type": "execute_result"
    }
   ],
   "source": [
    "test.dp\n"
   ]
  },
  {
   "cell_type": "code",
   "execution_count": 86,
   "metadata": {},
   "outputs": [],
   "source": [
    "tnumber = int(input())\n",
    "all_result = []\n",
    "for i in range(0,tnumber):\n",
    "    \n",
    "    pnumber,prnum = [int(i) for i in input('').split(' ')]\n",
    "\n",
    "    p_time = [int(i) for i in input().split(' ')] \n",
    "\n",
    "    pcontent = dict(zip(range(pnumber),[[] for i in range(pnumber)]))\n",
    "    for j in range(0,prnum):\n",
    "        bf,af = [int(i)-1 for i in input('').split(' ')]\n",
    "        pcontent[af].append(bf)\n",
    "    "
   ]
  },
  {
   "cell_type": "code",
   "execution_count": 1,
   "metadata": {},
   "outputs": [
    {
     "data": {
      "text/plain": [
       "1"
      ]
     },
     "execution_count": 1,
     "metadata": {},
     "output_type": "execute_result"
    }
   ],
   "source": [
    "\n",
    "n = int(input())\n",
    "n"
   ]
  }
 ],
 "metadata": {
  "kernelspec": {
   "display_name": "Python 3",
   "language": "python",
   "name": "python3"
  },
  "language_info": {
   "codemirror_mode": {
    "name": "ipython",
    "version": 3
   },
   "file_extension": ".py",
   "mimetype": "text/x-python",
   "name": "python",
   "nbconvert_exporter": "python",
   "pygments_lexer": "ipython3",
   "version": "3.10.1"
  },
  "orig_nbformat": 4
 },
 "nbformat": 4,
 "nbformat_minor": 2
}
