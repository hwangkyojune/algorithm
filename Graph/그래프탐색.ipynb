{
 "cells": [
  {
   "cell_type": "code",
   "execution_count": 3,
   "metadata": {},
   "outputs": [
    {
     "name": "stdout",
     "output_type": "stream",
     "text": [
      "0 1 2 3\n",
      "[1, 8] [2, 7] [3, 4] [5, 6]\n"
     ]
    }
   ],
   "source": [
    "import sys\n",
    "sys.setrecursionlimit(5000)\n",
    "\n",
    "def DFS(G, v):\n",
    "\tglobal curr_time # pre, post를 위한 time stamp\n",
    "\t# 그래프 G의 노드 v를 DFS 방문한다\n",
    "\tpre[v] = curr_time\n",
    "\tcurr_time += 1\n",
    "\tvisited[v] = True #방문한 적 있다고 표시\n",
    "\tfor u in G[v] :\n",
    "\t\tif visited[u] is False :\n",
    "\t\t\tparent[u] = v\n",
    "\t\t\tDFS(G,u)\n",
    "\tpost[v] = curr_time\n",
    "\tcurr_time += 1\n",
    "\t\n",
    "def DFSAll(G):\n",
    "\t# 그래프 G를 DFS 방문한다\n",
    "\tfor v in range(n):\n",
    "\t\tif visited[v] == False:\n",
    "\t\t\tDFS(G, v)\n",
    "\n",
    "# 입력 처리\n",
    "n, m = [int(x) for x in input().split()]\n",
    "G = [[] for _ in range(n)]\n",
    "# G 입력 받아 처리\n",
    "for i in range(m):\n",
    "\ta,b = input().split()\n",
    "\tG[int(a)].append(int(b))\n",
    "\tG[int(b)].append(int(a))\n",
    "\n",
    "for g in G:\n",
    "\tg.sort()\n",
    "\n",
    "# visited, pre, post 리스트 정의와 초기화\n",
    "visited = [False for _ in range(n)]\n",
    "pre = [0 for _ in range(n)]\n",
    "post = [0 for _ in range(n)]\n",
    "parent = [0 for _ in range(n)]\n",
    "# curr_time = 1로 초기화\n",
    "curr_time = 1\n",
    "\n",
    "#출력은 그래프의 탐색 순서와, 요소 별로 pre,post값들\n",
    "DFSAll(G)\n",
    "sorted_indexes = sorted(range(len(pre)), key=lambda x: pre[x])\n",
    "print(*sorted_indexes)\n",
    "result=zip(pre,post)\n",
    "result = list(map(list,result))\n",
    "print(*result)\n"
   ]
  }
 ],
 "metadata": {
  "kernelspec": {
   "display_name": "Python 3",
   "language": "python",
   "name": "python3"
  },
  "language_info": {
   "codemirror_mode": {
    "name": "ipython",
    "version": 3
   },
   "file_extension": ".py",
   "mimetype": "text/x-python",
   "name": "python",
   "nbconvert_exporter": "python",
   "pygments_lexer": "ipython3",
   "version": "3.10.1"
  },
  "orig_nbformat": 4
 },
 "nbformat": 4,
 "nbformat_minor": 2
}
