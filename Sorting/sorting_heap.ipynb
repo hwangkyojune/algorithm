{
 "cells": [
  {
   "cell_type": "code",
   "execution_count": 28,
   "id": "b0acaade",
   "metadata": {},
   "outputs": [],
   "source": [
    "class Heap :\n",
    "    def __init__(self,L=[]):\n",
    "        self.A = L\n",
    "        self.make_heap()\n",
    "        \n",
    "    def __self__(self):\n",
    "        return str(self.A)\n",
    "    \n",
    "    def heapify_down(self,k,n):\n",
    "        \n",
    "        while 2*k +1 < n:\n",
    "            L,R = 2*k+1, 2*k+2\n",
    "            \n",
    "            if L < n and self.A[L] > self.A[k] : m = L\n",
    "            else : m = k\n",
    "                \n",
    "            if R < n and self.A[R] > self.A[m]:  m = R\n",
    "            \n",
    "            if m != k: \n",
    "                self.A[k],self.A[m] = self.A[m],self.A[k]\n",
    "                k = m\n",
    "            else :\n",
    "                break\n",
    "                \n",
    "    def make_heap(self):\n",
    "            \n",
    "        for k in range(len(self.A),-1,-1):\n",
    "            self.heapify_down(k,len(self.A))\n",
    "            \n",
    "    def heap_sort(self):\n",
    "        n= len(self.A)-1\n",
    "        for i in range(len(self.A)-1,-1,-1):\n",
    "            self.A[0],self.A[i] = self.A[i],self.A[0]\n",
    "            n = n-1\n",
    "            self.heapify_down(0,n)"
   ]
  },
  {
   "cell_type": "code",
   "execution_count": 29,
   "id": "f5807d6b",
   "metadata": {},
   "outputs": [
    {
     "data": {
      "text/plain": [
       "[10, 9, 3, 8, 5, 2]"
      ]
     },
     "execution_count": 29,
     "metadata": {},
     "output_type": "execute_result"
    }
   ],
   "source": [
    "A = [3,8,2,9,5,10]\n",
    "heap1 = Heap(A)\n",
    "heap1.A"
   ]
  },
  {
   "cell_type": "code",
   "execution_count": 30,
   "id": "c856de64",
   "metadata": {},
   "outputs": [
    {
     "data": {
      "text/plain": [
       "[2, 3, 5, 8, 9, 10]"
      ]
     },
     "execution_count": 30,
     "metadata": {},
     "output_type": "execute_result"
    }
   ],
   "source": [
    "heap1.heap_sort()\n",
    "A"
   ]
  },
  {
   "cell_type": "code",
   "execution_count": 14,
   "id": "6bae81a3",
   "metadata": {},
   "outputs": [],
   "source": [
    "class baba:\n",
    "    def __init__(self,a,b):\n",
    "        self.c = a\n",
    "        self.d = b\n",
    "        self.plus(a)\n",
    "        \n",
    "    def plus(self,b):\n",
    "        self.c += b\n",
    "        return self.c"
   ]
  },
  {
   "cell_type": "code",
   "execution_count": 15,
   "id": "43f35a7d",
   "metadata": {},
   "outputs": [
    {
     "data": {
      "text/plain": [
       "6"
      ]
     },
     "execution_count": 15,
     "metadata": {},
     "output_type": "execute_result"
    }
   ],
   "source": [
    "A = baba(3,4)\n",
    "\n",
    "A.c"
   ]
  },
  {
   "cell_type": "code",
   "execution_count": 13,
   "id": "972f6fc8",
   "metadata": {},
   "outputs": [
    {
     "data": {
      "text/plain": [
       "7"
      ]
     },
     "execution_count": 13,
     "metadata": {},
     "output_type": "execute_result"
    }
   ],
   "source": []
  }
 ],
 "metadata": {
  "kernelspec": {
   "display_name": "Python 3 (ipykernel)",
   "language": "python",
   "name": "python3"
  },
  "language_info": {
   "codemirror_mode": {
    "name": "ipython",
    "version": 3
   },
   "file_extension": ".py",
   "mimetype": "text/x-python",
   "name": "python",
   "nbconvert_exporter": "python",
   "pygments_lexer": "ipython3",
   "version": "3.10.1"
  }
 },
 "nbformat": 4,
 "nbformat_minor": 5
}
