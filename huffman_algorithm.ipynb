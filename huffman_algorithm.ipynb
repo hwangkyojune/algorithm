{
 "cells": [
  {
   "attachments": {},
   "cell_type": "markdown",
   "metadata": {},
   "source": [
    "## Huffman_Code  \n",
    "목적 : 문자열 마다 빈도수가 다르기 때문에 문자열 마다 고정 길이 코드가 아닌 가변 길이 코드로 만들어 코드의 성능을 높이고자 한다.  \n",
    "주의 사항 : 'prefix-free code'이어야 한다.  \n",
    "방법 : huffman tree 생성 빈도수가 적은 두 문자부터 엮고 빈도수를 합치는 것을 반복"
   ]
  },
  {
   "attachments": {},
   "cell_type": "markdown",
   "metadata": {},
   "source": [
    "### 구현과정\n",
    "1. Heap에 빈도수와 필요한 문자가 들어있는 튜플들을 삽입 ex)(cost,문자)  \n",
    "2. 최솟값 2개를 heappop, 연결관계를 이어 만든 튜플 heappush (연결관계란 문자가 처음 언제 이어졌는지 나타내는 표시)를 heap이 1이 될때까지 반복  \n",
    "3. heap의 마지막 요소가 huffman tree"
   ]
  },
  {
   "cell_type": "code",
   "execution_count": 20,
   "metadata": {},
   "outputs": [
    {
     "name": "stdout",
     "output_type": "stream",
     "text": [
      "[(7, 'f'), (12, 'c'), (9, 'e'), (43, 'a'), (16, 'd'), (13, 'b')]\n"
     ]
    }
   ],
   "source": [
    "import heapq as hq\n",
    "\n",
    "code = [(43,\"a\"),(13,\"b\"),(12,\"c\"),(16,\"d\"),(9,\"e\"),(7,\"f\")]\n",
    "\n",
    "h = []\n",
    "\n",
    "# heap생성\n",
    "for i in range(len(code)):\n",
    "    hq.heappush(h,code[i])\n",
    "\n",
    "print(h)"
   ]
  },
  {
   "cell_type": "code",
   "execution_count": 21,
   "metadata": {},
   "outputs": [
    {
     "name": "stdout",
     "output_type": "stream",
     "text": [
      "(16, '(f,e)')\n",
      "(25, '(c,b)')\n",
      "(32, '((f,e),d)')\n",
      "(57, '((c,b),((f,e),d))')\n",
      "(100, '(a,((c,b),((f,e),d)))')\n",
      "(a,((c,b),((f,e),d)))\n"
     ]
    }
   ],
   "source": [
    "while len(h) > 1 :\n",
    "    # huffman_tree를 만드는 방법은 빈도수가 적은 2개를 선택한 다음, 더한 노드가 다음 선택에 들어가게 된다. \n",
    "    min1 = hq.heappop(h)\n",
    "    min2 = hq.heappop(h)\n",
    "    new_node = (min1[0]+min2[0],f'({min1[1]},{min2[1]})')\n",
    "    print(new_node)\n",
    "    hq.heappush(h,new_node)\n",
    "\n",
    "print(h[0][1])"
   ]
  }
 ],
 "metadata": {
  "kernelspec": {
   "display_name": "Python 3",
   "language": "python",
   "name": "python3"
  },
  "language_info": {
   "codemirror_mode": {
    "name": "ipython",
    "version": 3
   },
   "file_extension": ".py",
   "mimetype": "text/x-python",
   "name": "python",
   "nbconvert_exporter": "python",
   "pygments_lexer": "ipython3",
   "version": "3.10.1"
  },
  "orig_nbformat": 4
 },
 "nbformat": 4,
 "nbformat_minor": 2
}
